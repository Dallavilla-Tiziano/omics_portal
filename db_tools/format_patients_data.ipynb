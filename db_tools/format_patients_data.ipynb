{
 "cells": [
  {
   "cell_type": "code",
   "execution_count": 25,
   "id": "f36fa62d-3b9f-4299-8d1b-e91beef4fb2e",
   "metadata": {},
   "outputs": [],
   "source": [
    "import pandas as pd"
   ]
  },
  {
   "cell_type": "markdown",
   "id": "3efcde94-32de-404b-abd3-3a7ff157c202",
   "metadata": {},
   "source": [
    "# Read data from IMTC"
   ]
  },
  {
   "cell_type": "code",
   "execution_count": 26,
   "id": "0388399e-efd4-4c84-9a36-bf2ccece53dc",
   "metadata": {},
   "outputs": [],
   "source": [
    "data1 = pd.read_csv('/home/imtc/Documenti/tmp/ID_DB_BRUGADA.csv', sep='\\t')\n",
    "# Drop incremental integer\n",
    "data1.drop(['Unnamed: 23','Unnamed: 24'], axis=1, inplace=True)\n",
    "# Drop row if missing 'Cognome' or 'Nome'\n",
    "data1.dropna(subset=['Cognome', 'Nome'], inplace=True)\n",
    "# Standardize column names\n",
    "data1.columns = data1.columns.str.lower().str.replace(\" \", \"_\")\n",
    "# Drop completely empty columns (not almost empty ones)\n",
    "data1 = data1.dropna(axis=1, how=\"all\")\n",
    "# Standardize columns: Convert to title case\n",
    "data1[\"cognome\"] = data1[\"cognome\"].str.title().str.strip()\n",
    "data1[\"nome\"] = data1[\"nome\"].str.title().str.strip()\n",
    "# Recreate 'sex' column based on 'm' and 'f' values\n",
    "data1[\"sex\"] = data1.apply(lambda row: \"M\" if row[\"m\"] == \"X\" else (\"F\" if row[\"f\"] == \"X\" else None), axis=1)\n",
    "data1.drop(columns=[\"m\", \"f\"], inplace=True)  # Remove old columns\n",
    "# Standardize date format (Data di Nascita -> date_of_birth)\n",
    "data1[\"data_di_nascita\"] = pd.to_datetime(data1[\"data_di_nascita\"], errors=\"coerce\", dayfirst=True)"
   ]
  },
  {
   "cell_type": "markdown",
   "id": "edb77c5a-522c-44e8-9205-8b58bda6ddfd",
   "metadata": {},
   "source": [
    "# Read data from EF"
   ]
  },
  {
   "cell_type": "code",
   "execution_count": 27,
   "id": "6d973a76-7d9b-40e6-918d-235e622c6d23",
   "metadata": {},
   "outputs": [
    {
     "name": "stderr",
     "output_type": "stream",
     "text": [
      "/tmp/ipykernel_270541/4221585566.py:1: DtypeWarning: Columns (0,2,13,17,18,21,22,23,24,25,26,27,28,32,34,36,42,44,50,53,54,55,56,57,58,59,60,61,62,63,64,65,66,67,68,70,71,72,73,74,75,76,77,78,79,80,86,87,88,91,93,96,97,98,99,100,101,102,103,104,105,106,107,108,109,148,150,162,164,165,169,196,212,219,220,227,228,232,233) have mixed types. Specify dtype option on import or set low_memory=False.\n",
      "  data2 = pd.read_csv('/home/imtc/Documenti/tmp/DATABASE_Clinica_pazienti_Brugada.csv', sep='\\t')\n"
     ]
    }
   ],
   "source": [
    "data2 = pd.read_csv('/home/imtc/Documenti/tmp/DATABASE_Clinica_pazienti_Brugada.csv', sep='\\t')\n",
    "data2.drop(['ID','Unnamed: 232', 'Unnamed: 233'], axis=1, inplace=True)\n",
    "# Standardize column names: Convert to lowercase and replace spaces with underscores\n",
    "data2.columns = data2.columns.str.lower().str.replace(\" \", \"_\")\n",
    "# Drop completely empty columns\n",
    "data2 = data2.dropna(axis=1, how=\"all\")\n",
    "data2[\"first_name\"] = data2[\"first_name\"].str.title().str.strip()\n",
    "data2[\"last_name\"] = data2[\"last_name\"].str.title().str.strip()\n",
    "data2[\"nazione_di_nascita\"] = data2[\"nazione_di_nascita\"].str.title().str.strip()\n",
    "data2[\"regione_di_nascita\"] = data2[\"regione_di_nascita\"].str.title().str.strip()\n",
    "data2[\"provincia_di_nascita\"] = data2[\"provincia_di_nascita\"].str.title().str.strip()\n",
    "# Standardize date format (DATE OF BIRTH -> data_di_nascita, TEST DATE -> test_date)\n",
    "data2[\"date_of_birth\"] = pd.to_datetime(data2[\"date_of_birth\"], errors=\"coerce\", format=\"%m/%d/%Y\", dayfirst=True)\n",
    "data2[\"_test_date\"] = pd.to_datetime(data2[\"_test_date\"], errors=\"coerce\", format=\"%m/%d/%Y\", dayfirst=True)\n",
    "# Ensure numeric columns are properly converted (e.g., age)\n",
    "data2[\"age\"] = pd.to_numeric(data2[\"age\"], errors=\"coerce\")"
   ]
  },
  {
   "cell_type": "markdown",
   "id": "9196f4f8-58d1-46df-be37-c803bb674480",
   "metadata": {},
   "source": [
    "# Check Anagrafica"
   ]
  },
  {
   "cell_type": "code",
   "execution_count": 28,
   "id": "bd062603-db32-4062-bc5b-5b7d4f434fcd",
   "metadata": {},
   "outputs": [],
   "source": [
    "clinic_data1 = data1[['pos1_neg0', '_procedure', 'cognome', 'nome', 'data_di_nascita',\n",
    "       'primo_ingresso', 'sex']]\n",
    "clinic_data1.columns = ['ajmaline', 'id', 'last_name', 'first_name', 'birth_date',\n",
    "       'registered_on', 'sex']"
   ]
  },
  {
   "cell_type": "code",
   "execution_count": 29,
   "id": "84a3c040-010c-4fc6-8a12-837cbfb7a94a",
   "metadata": {},
   "outputs": [],
   "source": [
    "clinic_data2 = data2[['pk_paziente_______id_cardioref','last_name','first_name','sex','date_of_birth',\n",
    "    '_test_date','nazione_di_nascita','regione_di_nascita',\n",
    "    'provincia_di_nascita','proband_/_relatives',\n",
    "    'fin_genetica_progressivo','ajmaline_test_result',\n",
    "    'brs_baseline_pattern']]\n",
    "clinic_data2.columns = ['id_cardioref','last_name','first_name','sex','birth_date',\n",
    "    'test_date','nation','region',\n",
    "    'province','family_status',\n",
    "    'fin','ajmaline',\n",
    "    'brs_baseline_pattern']"
   ]
  },
  {
   "cell_type": "code",
   "execution_count": 30,
   "id": "b3a38f89-e2ce-4645-a8d0-f5ac81dfacdf",
   "metadata": {},
   "outputs": [
    {
     "name": "stderr",
     "output_type": "stream",
     "text": [
      "/tmp/ipykernel_270541/1949463787.py:3: UserWarning: Parsing dates in DD/MM/YYYY format when dayfirst=False (the default) was specified. This may lead to inconsistently parsed dates! Specify a format to ensure consistent parsing.\n",
      "  clinic_merged[col] = pd.to_datetime(clinic_merged[col], errors='coerce').dt.strftime('%Y-%m-%d')\n"
     ]
    }
   ],
   "source": [
    "clinic_merged = clinic_data1.merge(clinic_data2, on=['first_name', 'last_name', 'birth_date', 'sex'], how='outer', indicator=True, suffixes=['_IMTC','_EF'])\n",
    "for col in [\"birth_date\", \"test_date\", \"registered_on\"]:\n",
    "    clinic_merged[col] = pd.to_datetime(clinic_merged[col], errors='coerce').dt.strftime('%Y-%m-%d')"
   ]
  },
  {
   "cell_type": "code",
   "execution_count": 31,
   "id": "8b653ba6-bb15-43fd-8208-b9e3ad52d8ea",
   "metadata": {},
   "outputs": [],
   "source": [
    "clinic_merged.drop_duplicates(subset=['id_cardioref', 'first_name', 'last_name', 'birth_date' , 'sex'], inplace=True)"
   ]
  },
  {
   "cell_type": "code",
   "execution_count": 32,
   "id": "aaa3794a-9c1e-4d2c-940d-8578bae3ef41",
   "metadata": {},
   "outputs": [],
   "source": [
    "clinic_merged[['_merge', 'id', 'id_cardioref', 'fin', 'last_name', 'first_name', 'birth_date', 'sex', 'nation', 'region',\n",
    "       'province', 'family_status','registered_on', 'test_date', 'ajmaline_IMTC', 'ajmaline_EF',\n",
    "       'brs_baseline_pattern']].to_csv('/home/imtc/Scaricati/clinical_imtc_ef_merged_TMP.csv', index=False)"
   ]
  }
 ],
 "metadata": {
  "kernelspec": {
   "display_name": "Python 3 (ipykernel)",
   "language": "python",
   "name": "python3"
  },
  "language_info": {
   "codemirror_mode": {
    "name": "ipython",
    "version": 3
   },
   "file_extension": ".py",
   "mimetype": "text/x-python",
   "name": "python",
   "nbconvert_exporter": "python",
   "pygments_lexer": "ipython3",
   "version": "3.11.7"
  }
 },
 "nbformat": 4,
 "nbformat_minor": 5
}
